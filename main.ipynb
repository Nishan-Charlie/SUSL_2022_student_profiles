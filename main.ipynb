{
 "cells": [
  {
   "cell_type": "code",
   "execution_count": 69,
   "id": "ebb7f733",
   "metadata": {},
   "outputs": [],
   "source": [
    "import pandas as pd \n",
    "import numpy as np "
   ]
  },
  {
   "cell_type": "code",
   "execution_count": 70,
   "id": "04393b37",
   "metadata": {},
   "outputs": [],
   "source": [
    "df = pd.read_excel(\"Github Portfolio Development (Responses).xlsx\")\n",
    "df = df.drop(columns=[\"Timestamp\"])"
   ]
  },
  {
   "cell_type": "code",
   "execution_count": 71,
   "id": "28ec0a71",
   "metadata": {},
   "outputs": [
    {
     "data": {
      "text/html": [
       "<div>\n",
       "<style scoped>\n",
       "    .dataframe tbody tr th:only-of-type {\n",
       "        vertical-align: middle;\n",
       "    }\n",
       "\n",
       "    .dataframe tbody tr th {\n",
       "        vertical-align: top;\n",
       "    }\n",
       "\n",
       "    .dataframe thead th {\n",
       "        text-align: right;\n",
       "    }\n",
       "</style>\n",
       "<table border=\"1\" class=\"dataframe\">\n",
       "  <thead>\n",
       "    <tr style=\"text-align: right;\">\n",
       "      <th></th>\n",
       "      <th>Registration Number</th>\n",
       "      <th>Full Name</th>\n",
       "      <th>Department</th>\n",
       "      <th>Github Profile Name</th>\n",
       "      <th>Github Profile Landing page URL</th>\n",
       "      <th>Portfolio URL</th>\n",
       "    </tr>\n",
       "  </thead>\n",
       "  <tbody>\n",
       "    <tr>\n",
       "      <th>0</th>\n",
       "      <td>22CSE0395</td>\n",
       "      <td>Renujaan Ravichandran</td>\n",
       "      <td>SE</td>\n",
       "      <td>RJ-4803</td>\n",
       "      <td>https://github.com/RJ-4803</td>\n",
       "      <td>https://github.com/RJ-4803/RJ-4803</td>\n",
       "    </tr>\n",
       "    <tr>\n",
       "      <th>1</th>\n",
       "      <td>22CSE0352</td>\n",
       "      <td>Kalavila Pathirage Nirmal Chamara</td>\n",
       "      <td>SE</td>\n",
       "      <td>Nirmal-Chamara</td>\n",
       "      <td>https://github.com/Nirmal-Chamara</td>\n",
       "      <td>https://github.com/Nirmal-Chamara/Nirmal-Chamara</td>\n",
       "    </tr>\n",
       "    <tr>\n",
       "      <th>2</th>\n",
       "      <td>22CSE0356</td>\n",
       "      <td>Janith Sasindu Mihiran</td>\n",
       "      <td>SE</td>\n",
       "      <td>Janith Sasindu</td>\n",
       "      <td>https://github.com/janith-sasindu</td>\n",
       "      <td>https://github.com/janith-sasindu</td>\n",
       "    </tr>\n",
       "    <tr>\n",
       "      <th>3</th>\n",
       "      <td>22CSE0362</td>\n",
       "      <td>Liyanage Ushila Rusith Bandara Liyanage</td>\n",
       "      <td>SE</td>\n",
       "      <td>Rusi_B</td>\n",
       "      <td>https://github.com/rusithbandara20021204-alt</td>\n",
       "      <td>https://rusithbandara20021204-alt.github.io/My...</td>\n",
       "    </tr>\n",
       "    <tr>\n",
       "      <th>4</th>\n",
       "      <td>22CSE0361</td>\n",
       "      <td>Hewa Geeganage Buddhi Achini Mekala</td>\n",
       "      <td>SE</td>\n",
       "      <td>Achini Mekala</td>\n",
       "      <td>https://github.com/Achini-Mekala</td>\n",
       "      <td>https://github.com/Achini-Mekala</td>\n",
       "    </tr>\n",
       "  </tbody>\n",
       "</table>\n",
       "</div>"
      ],
      "text/plain": [
       "  Registration Number                                Full Name Department  \\\n",
       "0           22CSE0395                    Renujaan Ravichandran         SE   \n",
       "1           22CSE0352        Kalavila Pathirage Nirmal Chamara         SE   \n",
       "2           22CSE0356                   Janith Sasindu Mihiran         SE   \n",
       "3           22CSE0362  Liyanage Ushila Rusith Bandara Liyanage         SE   \n",
       "4           22CSE0361      Hewa Geeganage Buddhi Achini Mekala         SE   \n",
       "\n",
       "  Github Profile Name               Github Profile Landing page URL  \\\n",
       "0             RJ-4803                    https://github.com/RJ-4803   \n",
       "1      Nirmal-Chamara             https://github.com/Nirmal-Chamara   \n",
       "2      Janith Sasindu             https://github.com/janith-sasindu   \n",
       "3              Rusi_B  https://github.com/rusithbandara20021204-alt   \n",
       "4       Achini Mekala              https://github.com/Achini-Mekala   \n",
       "\n",
       "                                       Portfolio URL  \n",
       "0                 https://github.com/RJ-4803/RJ-4803  \n",
       "1   https://github.com/Nirmal-Chamara/Nirmal-Chamara  \n",
       "2                  https://github.com/janith-sasindu  \n",
       "3  https://rusithbandara20021204-alt.github.io/My...  \n",
       "4                   https://github.com/Achini-Mekala  "
      ]
     },
     "execution_count": 71,
     "metadata": {},
     "output_type": "execute_result"
    }
   ],
   "source": [
    "df.head()"
   ]
  },
  {
   "cell_type": "code",
   "execution_count": 72,
   "id": "d0604b15",
   "metadata": {},
   "outputs": [
    {
     "name": "stdout",
     "output_type": "stream",
     "text": [
      "<class 'pandas.core.frame.DataFrame'>\n",
      "RangeIndex: 276 entries, 0 to 275\n",
      "Data columns (total 6 columns):\n",
      " #   Column                           Non-Null Count  Dtype \n",
      "---  ------                           --------------  ----- \n",
      " 0   Registration Number              276 non-null    object\n",
      " 1   Full Name                        276 non-null    object\n",
      " 2   Department                       276 non-null    object\n",
      " 3   Github Profile Name              276 non-null    object\n",
      " 4   Github Profile Landing page URL  276 non-null    object\n",
      " 5   Portfolio URL                    276 non-null    object\n",
      "dtypes: object(6)\n",
      "memory usage: 13.1+ KB\n"
     ]
    }
   ],
   "source": [
    "df.info()"
   ]
  },
  {
   "cell_type": "code",
   "execution_count": 75,
   "id": "fa4da1ab",
   "metadata": {},
   "outputs": [],
   "source": [
    "cols = [\"Registration Number\", \"Github Profile Landing page URL\", \"Portfolio URL\"]\n",
    "\n",
    "df_lower = df.copy()\n",
    "for col in cols:\n",
    "    df_lower[col] = df_lower[col].str.lower()\n",
    "\n",
    "\n",
    "mask = (\n",
    "    df_lower[\"Registration Number\"].duplicated(keep='last') |\n",
    "    df_lower[\"Github Profile Landing page URL\"].duplicated(keep='last') |\n",
    "    df_lower[\"Portfolio URL\"].duplicated(keep='last')\n",
    ")\n",
    "\n",
    "dropped_rows = df[mask]\n",
    "\n",
    "# Keep only unique rows\n",
    "df = df[~mask].reset_index(drop=True)\n",
    "\n",
    "# Save dropped rows to CSV\n",
    "dropped_rows.to_csv(\"dropped_rows.csv\", index=False, encoding=\"utf-8\")"
   ]
  },
  {
   "cell_type": "code",
   "execution_count": 76,
   "id": "bed77ceb",
   "metadata": {},
   "outputs": [],
   "source": [
    "df.to_json(\"students.json\", orient=\"records\", lines=False)"
   ]
  },
  {
   "cell_type": "code",
   "execution_count": null,
   "id": "f190414f",
   "metadata": {},
   "outputs": [],
   "source": []
  }
 ],
 "metadata": {
  "kernelspec": {
   "display_name": "base",
   "language": "python",
   "name": "python3"
  },
  "language_info": {
   "codemirror_mode": {
    "name": "ipython",
    "version": 3
   },
   "file_extension": ".py",
   "mimetype": "text/x-python",
   "name": "python",
   "nbconvert_exporter": "python",
   "pygments_lexer": "ipython3",
   "version": "3.12.3"
  }
 },
 "nbformat": 4,
 "nbformat_minor": 5
}
